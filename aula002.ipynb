{
  "nbformat": 4,
  "nbformat_minor": 0,
  "metadata": {
    "colab": {
      "provenance": [],
      "authorship_tag": "ABX9TyMpUTGUwZxnab92fg6jo6dL",
      "include_colab_link": true
    },
    "kernelspec": {
      "name": "python3",
      "display_name": "Python 3"
    },
    "language_info": {
      "name": "python"
    }
  },
  "cells": [
    {
      "cell_type": "markdown",
      "metadata": {
        "id": "view-in-github",
        "colab_type": "text"
      },
      "source": [
        "<a href=\"https://colab.research.google.com/github/kautc/introdu-o-ao-phyton/blob/main/aula002.ipynb\" target=\"_parent\"><img src=\"https://colab.research.google.com/assets/colab-badge.svg\" alt=\"Open In Colab\"/></a>"
      ]
    },
    {
      "cell_type": "code",
      "execution_count": 5,
      "metadata": {
        "colab": {
          "base_uri": "https://localhost:8080/"
        },
        "id": "XJB5T0Z32180",
        "outputId": "2c15ae73-38a6-4a62-df0c-7ac9ee0a2c3b"
      },
      "outputs": [
        {
          "output_type": "stream",
          "name": "stdout",
          "text": [
            "insira o nome do nome do no jogador do vasco neymar\n",
            "seja bem-vindo ao vasco gigante neymar\n"
          ]
        }
      ],
      "source": [
        "nome = input(\"insira o nome do nome do novo jogador do vasco \")\n",
        "print(\"seja bem-vindo ao vasco gigante \" + nome)\n",
        "\n"
      ]
    },
    {
      "cell_type": "code",
      "source": [
        "numero = int(input('Insira um número '))\n",
        "print (numero* 2)"
      ],
      "metadata": {
        "colab": {
          "base_uri": "https://localhost:8080/"
        },
        "id": "e_YHDq9f4v45",
        "outputId": "c5fee415-b625-4380-818e-53600625213f"
      },
      "execution_count": 9,
      "outputs": [
        {
          "output_type": "stream",
          "name": "stdout",
          "text": [
            "Insira um número 20\n",
            "40\n"
          ]
        }
      ]
    },
    {
      "cell_type": "code",
      "source": [
        "#pede para inserir um número e retornar a sua metade\n",
        "número= int(input(\"insira o número \"))\n",
        "print(número/ 2)"
      ],
      "metadata": {
        "colab": {
          "base_uri": "https://localhost:8080/"
        },
        "id": "8uw6gl666S6Z",
        "outputId": "3bbd16de-ee88-4028-e643-a3d43633f170"
      },
      "execution_count": 11,
      "outputs": [
        {
          "output_type": "stream",
          "name": "stdout",
          "text": [
            "insira o número 4500\n",
            "2250.0\n"
          ]
        }
      ]
    },
    {
      "cell_type": "code",
      "source": [
        "# A circunferencias do circulo é medida pela formula\n",
        "# 2 * pi * raio\n",
        "#faça um algoritmo que pede o raio e retorna a circunferencia\n",
        "#use pi + #3,14\n",
        "raio= float(input(\"insira o raio do circulo \"))\n",
        "circunferencia = 2* 3,14 * raio\n",
        "print (circunferencia)"
      ],
      "metadata": {
        "colab": {
          "base_uri": "https://localhost:8080/"
        },
        "id": "ssO_TsOu7Hvi",
        "outputId": "236d9308-d188-4d47-d751-9f2181453471"
      },
      "execution_count": 14,
      "outputs": [
        {
          "output_type": "stream",
          "name": "stdout",
          "text": [
            "insira o raio do circulo 35\n",
            "(6, 490.0)\n"
          ]
        }
      ]
    },
    {
      "cell_type": "code",
      "source": [
        "peso= float(input(\"insira o peso: \"))\n",
        "altura= float(input(\"insira o altura: \"))\n",
        "imc = peso / altura**2\n",
        "print ('o imc é ', imc)\n"
      ],
      "metadata": {
        "colab": {
          "base_uri": "https://localhost:8080/"
        },
        "id": "5uU_k8Gd9n5J",
        "outputId": "fee56b5f-e641-4862-aabd-9987d0400716"
      },
      "execution_count": 20,
      "outputs": [
        {
          "output_type": "stream",
          "name": "stdout",
          "text": [
            "insira o peso: 60\n",
            "insira o altura: 85\n",
            "o imc é  0.008304498269896194\n"
          ]
        }
      ]
    },
    {
      "cell_type": "code",
      "source": [
        "temperatura= float(input(\"insira o temperatura: \"))\n",
        "kelvin = temperatura + 274\n",
        "print('a temperatura é ' , kelvin)"
      ],
      "metadata": {
        "colab": {
          "base_uri": "https://localhost:8080/"
        },
        "id": "5pC7Mai_AMqb",
        "outputId": "b5cb03b1-5033-40bc-943c-c96de70053ff"
      },
      "execution_count": 21,
      "outputs": [
        {
          "output_type": "stream",
          "name": "stdout",
          "text": [
            "insira o temperatura: 60\n",
            "a temperatura é  334.0\n"
          ]
        }
      ]
    },
    {
      "cell_type": "markdown",
      "source": [
        "  ESTRUTURA DE CONTREL IF E ELSE"
      ],
      "metadata": {
        "id": "WStI7k4_Bxoy"
      }
    },
    {
      "cell_type": "code",
      "source": [
        "# PEDE A IDADE DA PESSOA\n",
        "# SE FOR MAIOR DE 18 ANOS\n",
        "# ESTÁ APTO AO SERVIÇO MILITAR\n",
        "idade = int(input(\"digite a idade: \"))\n",
        "if(idade>=18):\n",
        "  print(\"apto para o serviço ao serviço militar \")\n",
        "else:\n",
        "    print(\"não apto ao serviço militar \")\n"
      ],
      "metadata": {
        "colab": {
          "base_uri": "https://localhost:8080/"
        },
        "id": "V9mEGTYSCcI7",
        "outputId": "8a9f76ac-e20b-47fb-8738-511fc6f31b05"
      },
      "execution_count": 27,
      "outputs": [
        {
          "output_type": "stream",
          "name": "stdout",
          "text": [
            "digite a idade: 18\n",
            "apto para o serviço ao serviço militar \n"
          ]
        }
      ]
    },
    {
      "cell_type": "code",
      "source": [
        "num = int(input(\"imsira o num\"))\n",
        "if (num > 0):\n",
        "  print(\"positivo\")\n",
        "elif(num < 0 ):\n",
        " print(\"negativo\")\n",
        "else:\n",
        "  print (\"zero\")\n"
      ],
      "metadata": {
        "colab": {
          "base_uri": "https://localhost:8080/"
        },
        "id": "ZBXEzXx-EbPE",
        "outputId": "3d31ccd4-212b-4500-bdac-0691ecd2f822"
      },
      "execution_count": 31,
      "outputs": [
        {
          "output_type": "stream",
          "name": "stdout",
          "text": [
            "imsira o num20\n",
            "positivo\n"
          ]
        }
      ]
    },
    {
      "cell_type": "code",
      "source": [
        "num1 = int(input(\"imsira o num1 \"))\n",
        "num2 = int(input(\"imsira o num2 \"))\n",
        "if (num1 > num2):\n",
        "  print(\"o primeiro numero e maior\")\n",
        "elif (num2 > num1):\n",
        "    print(\"o segundo numero e maior\")\n",
        "else:\n",
        "  print(\"os numeros são iguais\")\n"
      ],
      "metadata": {
        "colab": {
          "base_uri": "https://localhost:8080/"
        },
        "id": "5nwyrJg8F4oZ",
        "outputId": "101ef26e-bb58-4484-df48-5f9cd7e32af9"
      },
      "execution_count": 34,
      "outputs": [
        {
          "output_type": "stream",
          "name": "stdout",
          "text": [
            "imsira o num1 10\n",
            "imsira o num2 10\n",
            "os umeros são iguais\n"
          ]
        }
      ]
    }
  ]
}